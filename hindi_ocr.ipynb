{
  "nbformat": 4,
  "nbformat_minor": 0,
  "metadata": {
    "colab": {
      "provenance": [],
      "gpuType": "T4"
    },
    "kernelspec": {
      "name": "python3",
      "display_name": "Python 3"
    },
    "language_info": {
      "name": "python"
    },
    "accelerator": "GPU"
  },
  "cells": [
    {
      "cell_type": "code",
      "source": [
        "import kagglehub\n",
        "\n",
        "# Download latest version\n",
        "path = kagglehub.dataset_download(\"prathmeshzade/hindi-ocr-synthetic-line-image-text-pair\")\n",
        "\n",
        "print(\"Path to dataset files:\", path)"
      ],
      "metadata": {
        "colab": {
          "base_uri": "https://localhost:8080/"
        },
        "id": "XgtS5lzj51ya",
        "outputId": "70b7df54-8c77-4c49-962d-00717079abbe"
      },
      "execution_count": 1,
      "outputs": [
        {
          "output_type": "stream",
          "name": "stdout",
          "text": [
            "Warning: Looks like you're using an outdated `kagglehub` version (installed: 0.3.5), please consider upgrading to the latest version (0.3.6).\n",
            "Downloading from https://www.kaggle.com/api/v1/datasets/download/prathmeshzade/hindi-ocr-synthetic-line-image-text-pair?dataset_version_number=1...\n"
          ]
        },
        {
          "output_type": "stream",
          "name": "stderr",
          "text": [
            "100%|██████████| 735M/735M [00:04<00:00, 169MB/s]"
          ]
        },
        {
          "output_type": "stream",
          "name": "stdout",
          "text": [
            "Extracting files...\n"
          ]
        },
        {
          "output_type": "stream",
          "name": "stderr",
          "text": [
            "\n"
          ]
        },
        {
          "output_type": "stream",
          "name": "stdout",
          "text": [
            "Path to dataset files: /root/.cache/kagglehub/datasets/prathmeshzade/hindi-ocr-synthetic-line-image-text-pair/versions/1\n"
          ]
        }
      ]
    },
    {
      "cell_type": "code",
      "source": [
        "import os\n",
        "from PIL import Image\n",
        "import kagglehub\n",
        "from IPython.display import display\n",
        "\n",
        "\n",
        "\n",
        "# Download the dataset\n",
        "path = kagglehub.dataset_download(\"prathmeshzade/hindi-ocr-synthetic-line-image-text-pair\")\n",
        "print(\"Path to dataset files:\", path)\n",
        "\n",
        "# Function to load and preprocess images\n",
        "def load_and_preprocess_images(dataset_path, num_samples=5):\n",
        "    images = []\n",
        "    file_paths = []\n",
        "\n",
        "    # Iterate through dataset folder\n",
        "    for root, dirs, files in os.walk(dataset_path):\n",
        "        for file in files:\n",
        "            if file.lower().endswith(('.png', '.jpg', '.jpeg', '.tiff', '.bmp', '.gif')):\n",
        "                file_path = os.path.join(root, file)\n",
        "                file_paths.append(file_path)\n",
        "\n",
        "    # Sort files for consistent ordering (optional)\n",
        "    file_paths.sort()\n",
        "\n",
        "    # Load and preprocess images\n",
        "    for i, file_path in enumerate(file_paths[:num_samples]):\n",
        "        print(f\"Loading and preprocessing {file_path}...\")\n",
        "        try:\n",
        "            # Open the image\n",
        "            image = Image.open(file_path)\n",
        "\n",
        "            # Example preprocessing: convert to grayscale\n",
        "            preprocessed_image = image.convert(\"L\")\n",
        "\n",
        "            # Store the processed image\n",
        "            images.append(preprocessed_image)\n",
        "        except Exception as e:\n",
        "            print(f\"Error loading {file_path}: {e}\")\n",
        "\n",
        "    return images, file_paths[:num_samples]\n",
        "\n",
        "# Load and preprocess images (first 5 samples)\n",
        "images, file_paths = load_and_preprocess_images(path, num_samples=5)\n",
        "\n",
        "# Display first 5 processed images and their file paths\n",
        "for i, (img, fp) in enumerate(zip(images, file_paths)):\n",
        "    print(f\"Image {i+1}: Path = {fp}\")\n",
        "    img.show()  # Display the image (optional, removes need for GUI if not needed)\n"
      ],
      "metadata": {
        "colab": {
          "base_uri": "https://localhost:8080/"
        },
        "id": "LyDnRwVH9aWY",
        "outputId": "4534101a-d2a7-4a96-9d3a-3bc1117059b9"
      },
      "execution_count": 2,
      "outputs": [
        {
          "output_type": "stream",
          "name": "stdout",
          "text": [
            "Warning: Looks like you're using an outdated `kagglehub` version (installed: 0.3.5), please consider upgrading to the latest version (0.3.6).\n",
            "Path to dataset files: /root/.cache/kagglehub/datasets/prathmeshzade/hindi-ocr-synthetic-line-image-text-pair/versions/1\n",
            "Loading and preprocessing /root/.cache/kagglehub/datasets/prathmeshzade/hindi-ocr-synthetic-line-image-text-pair/versions/1/data_80k/TestSamples/1.png...\n",
            "Loading and preprocessing /root/.cache/kagglehub/datasets/prathmeshzade/hindi-ocr-synthetic-line-image-text-pair/versions/1/data_80k/TestSamples/2.png...\n",
            "Loading and preprocessing /root/.cache/kagglehub/datasets/prathmeshzade/hindi-ocr-synthetic-line-image-text-pair/versions/1/data_80k/TestSamples/3.png...\n",
            "Loading and preprocessing /root/.cache/kagglehub/datasets/prathmeshzade/hindi-ocr-synthetic-line-image-text-pair/versions/1/data_80k/TestSamples/4.png...\n",
            "Loading and preprocessing /root/.cache/kagglehub/datasets/prathmeshzade/hindi-ocr-synthetic-line-image-text-pair/versions/1/data_80k/TestSamples/5.png...\n",
            "Image 1: Path = /root/.cache/kagglehub/datasets/prathmeshzade/hindi-ocr-synthetic-line-image-text-pair/versions/1/data_80k/TestSamples/1.png\n",
            "Image 2: Path = /root/.cache/kagglehub/datasets/prathmeshzade/hindi-ocr-synthetic-line-image-text-pair/versions/1/data_80k/TestSamples/2.png\n",
            "Image 3: Path = /root/.cache/kagglehub/datasets/prathmeshzade/hindi-ocr-synthetic-line-image-text-pair/versions/1/data_80k/TestSamples/3.png\n",
            "Image 4: Path = /root/.cache/kagglehub/datasets/prathmeshzade/hindi-ocr-synthetic-line-image-text-pair/versions/1/data_80k/TestSamples/4.png\n",
            "Image 5: Path = /root/.cache/kagglehub/datasets/prathmeshzade/hindi-ocr-synthetic-line-image-text-pair/versions/1/data_80k/TestSamples/5.png\n"
          ]
        }
      ]
    },
    {
      "cell_type": "code",
      "source": [
        "for i, (img, fp) in enumerate(zip(images, file_paths)):\n",
        "    print(f\"Image {i+1}: Path = {fp}\")\n",
        "    display(img)"
      ],
      "metadata": {
        "colab": {
          "base_uri": "https://localhost:8080/",
          "height": 363
        },
        "id": "l65VO6_D-0lJ",
        "outputId": "16977bea-76c3-4ee5-e2ca-f50bf270bf24"
      },
      "execution_count": 3,
      "outputs": [
        {
          "output_type": "stream",
          "name": "stdout",
          "text": [
            "Image 1: Path = /root/.cache/kagglehub/datasets/prathmeshzade/hindi-ocr-synthetic-line-image-text-pair/versions/1/data_80k/TestSamples/1.png\n"
          ]
        },
        {
          "output_type": "display_data",
          "data": {
            "text/plain": [
              "<PIL.Image.Image image mode=L size=443x50>"
            ],
            "image/png": "[encoded data removed]",
            "image/jpeg": "[encoded data removed]"
          },
          "metadata": {}
        },
        {
          "output_type": "stream",
          "name": "stdout",
          "text": [
            "Image 2: Path = /root/.cache/kagglehub/datasets/prathmeshzade/hindi-ocr-synthetic-line-image-text-pair/versions/1/data_80k/TestSamples/2.png\n"
          ]
        },
        {
          "output_type": "display_data",
          "data": {
            "text/plain": [
              "<PIL.Image.Image image mode=L size=457x44>"
            ],
            "image/png": "[encoded data removed]",
            "image/jpeg": "[encoded data removed]"
          },
          "metadata": {}
        },
        {
          "output_type": "stream",
          "name": "stdout",
          "text": [
            "Image 3: Path = /root/.cache/kagglehub/datasets/prathmeshzade/hindi-ocr-synthetic-line-image-text-pair/versions/1/data_80k/TestSamples/3.png\n"
          ]
        },
        {
          "output_type": "display_data",
          "data": {
            "text/plain": [
              "<PIL.Image.Image image mode=L size=700x44>"
            ],
            "image/png": "[encoded data removed]",
            "image/jpeg": "[encoded data removed]"
          },
          "metadata": {}
        },
        {
          "output_type": "stream",
          "name": "stdout",
          "text": [
            "Image 4: Path = /root/.cache/kagglehub/datasets/prathmeshzade/hindi-ocr-synthetic-line-image-text-pair/versions/1/data_80k/TestSamples/4.png\n"
          ]
        },
        {
          "output_type": "display_data",
          "data": {
            "text/plain": [
              "<PIL.Image.Image image mode=L size=175x37>"
            ],
            "image/png": "[encoded data removed]",
            "image/jpeg": "[encoded data removed]"
          },
          "metadata": {}
        },
        {
          "output_type": "stream",
          "name": "stdout",
          "text": [
            "Image 5: Path = /root/.cache/kagglehub/datasets/prathmeshzade/hindi-ocr-synthetic-line-image-text-pair/versions/1/data_80k/TestSamples/5.png\n"
          ]
        },
        {
          "output_type": "display_data",
          "data": {
            "text/plain": [
              "<PIL.Image.Image image mode=L size=500x64>"
            ],
            "image/png": "[encoded data removed]",
            "image/jpeg": "[encoded data removed]"
          },
          "metadata": {}
        }
      ]
    },
    {
      "cell_type": "code",
      "source": [
        "pip install easyocr\n"
      ],
      "metadata": {
        "colab": {
          "base_uri": "https://localhost:8080/"
        },
        "id": "TD7ZR9ttDRbY",
        "outputId": "dd82f653-1cf5-4359-a348-7b8718670cc9"
      },
      "execution_count": 4,
      "outputs": [
        {
          "output_type": "stream",
          "name": "stdout",
          "text": [
            "Collecting easyocr\n",
            "  Downloading easyocr-1.7.2-py3-none-any.whl.metadata (10 kB)\n",
            "Requirement already satisfied: torch in /usr/local/lib/python3.10/dist-packages (from easyocr) (2.5.1+cu121)\n",
            "Requirement already satisfied: torchvision>=0.5 in /usr/local/lib/python3.10/dist-packages (from easyocr) (0.20.1+cu121)\n",
            "Requirement already satisfied: opencv-python-headless in /usr/local/lib/python3.10/dist-packages (from easyocr) (4.10.0.84)\n",
            "Requirement already satisfied: scipy in /usr/local/lib/python3.10/dist-packages (from easyocr) (1.13.1)\n",
            "Requirement already satisfied: numpy in /usr/local/lib/python3.10/dist-packages (from easyocr) (1.26.4)\n",
            "Requirement already satisfied: Pillow in /usr/local/lib/python3.10/dist-packages (from easyocr) (11.0.0)\n",
            "Requirement already satisfied: scikit-image in /usr/local/lib/python3.10/dist-packages (from easyocr) (0.25.0)\n",
            "Collecting python-bidi (from easyocr)\n",
            "  Downloading python_bidi-0.6.3-cp310-cp310-manylinux_2_17_x86_64.manylinux2014_x86_64.whl.metadata (4.9 kB)\n",
            "Requirement already satisfied: PyYAML in /usr/local/lib/python3.10/dist-packages (from easyocr) (6.0.2)\n",
            "Requirement already satisfied: Shapely in /usr/local/lib/python3.10/dist-packages (from easyocr) (2.0.6)\n",
            "Collecting pyclipper (from easyocr)\n",
            "  Downloading pyclipper-1.3.0.post6-cp310-cp310-manylinux_2_12_x86_64.manylinux2010_x86_64.whl.metadata (9.0 kB)\n",
            "Collecting ninja (from easyocr)\n",
            "  Downloading ninja-1.11.1.3-py3-none-manylinux_2_12_x86_64.manylinux2010_x86_64.whl.metadata (5.3 kB)\n",
            "Requirement already satisfied: filelock in /usr/local/lib/python3.10/dist-packages (from torch->easyocr) (3.16.1)\n",
            "Requirement already satisfied: typing-extensions>=4.8.0 in /usr/local/lib/python3.10/dist-packages (from torch->easyocr) (4.12.2)\n",
            "Requirement already satisfied: networkx in /usr/local/lib/python3.10/dist-packages (from torch->easyocr) (3.4.2)\n",
            "Requirement already satisfied: jinja2 in /usr/local/lib/python3.10/dist-packages (from torch->easyocr) (3.1.4)\n",
            "Requirement already satisfied: fsspec in /usr/local/lib/python3.10/dist-packages (from torch->easyocr) (2024.10.0)\n",
            "Requirement already satisfied: sympy==1.13.1 in /usr/local/lib/python3.10/dist-packages (from torch->easyocr) (1.13.1)\n",
            "Requirement already satisfied: mpmath<1.4,>=1.1.0 in /usr/local/lib/python3.10/dist-packages (from sympy==1.13.1->torch->easyocr) (1.3.0)\n",
            "Requirement already satisfied: imageio!=2.35.0,>=2.33 in /usr/local/lib/python3.10/dist-packages (from scikit-image->easyocr) (2.36.1)\n",
            "Requirement already satisfied: tifffile>=2022.8.12 in /usr/local/lib/python3.10/dist-packages (from scikit-image->easyocr) (2024.12.12)\n",
            "Requirement already satisfied: packaging>=21 in /usr/local/lib/python3.10/dist-packages (from scikit-image->easyocr) (24.2)\n",
            "Requirement already satisfied: lazy-loader>=0.4 in /usr/local/lib/python3.10/dist-packages (from scikit-image->easyocr) (0.4)\n",
            "Requirement already satisfied: MarkupSafe>=2.0 in /usr/local/lib/python3.10/dist-packages (from jinja2->torch->easyocr) (3.0.2)\n",
            "Downloading easyocr-1.7.2-py3-none-any.whl (2.9 MB)\n",
            "\u001b[2K   \u001b[90m━━━━━━━━━━━━━━━━━━━━━━━━━━━━━━━━━━━━━━━━\u001b[0m \u001b[32m2.9/2.9 MB\u001b[0m \u001b[31m40.0 MB/s\u001b[0m eta \u001b[36m0:00:00\u001b[0m\n",
            "\u001b[?25hDownloading ninja-1.11.1.3-py3-none-manylinux_2_12_x86_64.manylinux2010_x86_64.whl (422 kB)\n",
            "\u001b[2K   \u001b[90m━━━━━━━━━━━━━━━━━━━━━━━━━━━━━━━━━━━━━━━━\u001b[0m \u001b[32m422.9/422.9 kB\u001b[0m \u001b[31m33.7 MB/s\u001b[0m eta \u001b[36m0:00:00\u001b[0m\n",
            "\u001b[?25hDownloading pyclipper-1.3.0.post6-cp310-cp310-manylinux_2_12_x86_64.manylinux2010_x86_64.whl (912 kB)\n",
            "\u001b[2K   \u001b[90m━━━━━━━━━━━━━━━━━━━━━━━━━━━━━━━━━━━━━━━━\u001b[0m \u001b[32m912.2/912.2 kB\u001b[0m \u001b[31m52.1 MB/s\u001b[0m eta \u001b[36m0:00:00\u001b[0m\n",
            "\u001b[?25hDownloading python_bidi-0.6.3-cp310-cp310-manylinux_2_17_x86_64.manylinux2014_x86_64.whl (286 kB)\n",
            "\u001b[2K   \u001b[90m━━━━━━━━━━━━━━━━━━━━━━━━━━━━━━━━━━━━━━━━\u001b[0m \u001b[32m286.8/286.8 kB\u001b[0m \u001b[31m24.5 MB/s\u001b[0m eta \u001b[36m0:00:00\u001b[0m\n",
            "\u001b[?25hInstalling collected packages: python-bidi, pyclipper, ninja, easyocr\n",
            "Successfully installed easyocr-1.7.2 ninja-1.11.1.3 pyclipper-1.3.0.post6 python-bidi-0.6.3\n"
          ]
        }
      ]
    },
    {
      "cell_type": "code",
      "source": [
        "import easyocr\n",
        "import os\n",
        "import pandas as pd\n",
        "\n",
        "\n",
        "\n"
      ],
      "metadata": {
        "id": "xgmG7fp9E1st"
      },
      "execution_count": 5,
      "outputs": []
    },
    {
      "cell_type": "code",
      "source": [
        "import os\n",
        "import pandas as pd\n",
        "from sklearn.model_selection import train_test_split\n",
        "import random\n",
        "import easyocr\n",
        "\n",
        "# Initialize the EasyOCR reader for Hindi\n",
        "reader = easyocr.Reader(['hi'], gpu=False)  # 'hi' is for Hindi\n",
        "\n",
        "# Define the path to your dataset folder containing preprocessed images\n",
        "dataset_folder = '/root/.cache/kagglehub/datasets/prathmeshzade/hindi-ocr-synthetic-line-image-text-pair/versions/1/data_80k/output_images/'\n",
        "\n",
        "# Get a list of all image files in the dataset folder\n",
        "image_files = [\n",
        "    os.path.join(dataset_folder, filename)\n",
        "    for filename in os.listdir(dataset_folder)\n",
        "    if filename.endswith(('.jpg', '.png', '.jpeg'))\n",
        "]\n",
        "\n",
        "# Randomly sample 800 images from the dataset\n",
        "random.seed(42)  # Ensure reproducibility\n",
        "sampled_files = random.sample(image_files, 80)\n",
        "\n",
        "# Split the sampled dataset into training and testing subsets (80% train, 20% test)\n",
        "train_files, test_files = train_test_split(sampled_files, test_size=0.2, random_state=42)\n",
        "\n",
        "# Function to perform OCR on a list of files\n",
        "def perform_ocr(file_list):\n",
        "    results = []\n",
        "    for image_path in file_list:\n",
        "        filename = os.path.basename(image_path)\n",
        "        print(f\"Processing: {filename}\")\n",
        "\n",
        "        # Perform OCR on the image\n",
        "        ocr_results = reader.readtext(image_path)\n",
        "\n",
        "        # Extract the text and confidence for each detected text region\n",
        "        for (bbox, text, confidence) in ocr_results:\n",
        "            # Store the result in the list\n",
        "            results.append({\n",
        "                'image': filename,\n",
        "                'text': text,\n",
        "                'confidence': confidence\n",
        "            })\n",
        "    return results\n",
        "\n",
        "# Perform OCR on the training set\n",
        "train_results = perform_ocr(train_files)\n",
        "\n",
        "# Perform OCR on the testing set\n",
        "test_results = perform_ocr(test_files)\n",
        "\n",
        "# Convert the results to DataFrames\n",
        "train_df = pd.DataFrame(train_results)\n",
        "test_df = pd.DataFrame(test_results)\n",
        "\n",
        "# Optionally, save the results to CSV files\n",
        "train_df.to_csv('hindi_ocr_train_results.csv', index=False)\n",
        "test_df.to_csv('hindi_ocr_test_results.csv', index=False)\n",
        "\n",
        "# Print the first 5 rows of the training results\n",
        "print(\"Training Data Sample:\")\n",
        "print(train_df.head())\n",
        "\n",
        "# Print the first 5 rows of the testing results\n",
        "print(\"Testing Data Sample:\")\n",
        "print(test_df.head())\n"
      ],
      "metadata": {
        "colab": {
          "base_uri": "https://localhost:8080/"
        },
        "id": "ik1pClcAE7c2",
        "outputId": "33a15d8b-aae9-400a-aea3-8eba15352254"
      },
      "execution_count": 9,
      "outputs": [
        {
          "output_type": "stream",
          "name": "stderr",
          "text": [
            "WARNING:easyocr.easyocr:Using CPU. Note: This module is much faster with a GPU.\n"
          ]
        },
        {
          "output_type": "stream",
          "name": "stdout",
          "text": [
            "Processing: 45608.png\n",
            "Processing: 53540.png\n",
            "Processing: 5490.png\n",
            "Processing: 1125.png\n",
            "Processing: 16948.png\n",
            "Processing: 50440.png\n",
            "Processing: 54094.png\n",
            "Processing: 48503.png\n",
            "Processing: 20078.png\n",
            "Processing: 74833.png\n",
            "Processing: 11207.png\n",
            "Processing: 32915.png\n",
            "Processing: 70221.png\n",
            "Processing: 75733.png\n",
            "Processing: 12937.png\n",
            "Processing: 35428.png\n",
            "Processing: 4980.png\n",
            "Processing: 67257.png\n",
            "Processing: 65397.png\n",
            "Processing: 57726.png\n",
            "Processing: 33667.png\n",
            "Processing: 40612.png\n",
            "Processing: 43419.png\n",
            "Processing: 46357.png\n",
            "Processing: 35835.png\n",
            "Processing: 634.png\n",
            "Processing: 74909.png\n",
            "Processing: 33176.png\n",
            "Processing: 47982.png\n",
            "Processing: 12473.png\n",
            "Processing: 30837.png\n",
            "Processing: 32840.png\n",
            "Processing: 2132.png\n",
            "Processing: 59511.png\n",
            "Processing: 51475.png\n",
            "Processing: 68724.png\n",
            "Processing: 29735.png\n",
            "Processing: 48140.png\n",
            "Processing: 56562.png\n",
            "Processing: 7389.png\n",
            "Processing: 56678.png\n",
            "Processing: 15088.png\n",
            "Processing: 36640.png\n",
            "Processing: 77917.png\n",
            "Processing: 27348.png\n",
            "Processing: 37397.png\n",
            "Processing: 23071.png\n",
            "Processing: 67201.png\n",
            "Processing: 1794.png\n",
            "Processing: 78303.png\n",
            "Processing: 24193.png\n",
            "Processing: 62730.png\n",
            "Processing: 47518.png\n",
            "Processing: 63591.png\n",
            "Processing: 48209.png\n",
            "Processing: 43496.png\n",
            "Processing: 78514.png\n",
            "Processing: 64153.png\n",
            "Processing: 29220.png\n",
            "Processing: 12166.png\n",
            "Processing: 63389.png\n",
            "Processing: 2861.png\n",
            "Processing: 37828.png\n",
            "Processing: 58980.png\n",
            "Processing: 72623.png\n",
            "Processing: 61154.png\n",
            "Processing: 9349.png\n",
            "Processing: 48242.png\n",
            "Processing: 37670.png\n",
            "Processing: 21943.png\n",
            "Processing: 60053.png\n",
            "Processing: 2895.png\n",
            "Processing: 51078.png\n",
            "Processing: 46742.png\n",
            "Processing: 62136.png\n",
            "Processing: 49311.png\n",
            "Processing: 57485.png\n",
            "Processing: 6631.png\n",
            "Processing: 30675.png\n",
            "Processing: 53663.png\n",
            "Training Data Sample:\n",
            "       image                                               text  confidence\n",
            "0  45608.png  ब्रिटेनः अभद्र टिप्पणियों के कारण महिला सांसद ...    0.448373\n",
            "1  53540.png              बाढ़ पीड़ितों को रोज़े को लेकर दिक्कतें    0.652839\n",
            "2   5490.png  नज़रियाः गांधी पर चली गोलियां अब सब तरफ चल रही हैं    0.466167\n",
            "3   1125.png  गणतंत्र दिवस पर झंडा कौन फहराता है ? जानिए ऐसे...    0.487083\n",
            "4  16948.png              9 ११ के लिए सऊदी पर मुक़दमे का बिल पास    0.345925\n",
            "Testing Data Sample:\n",
            "       image                                               text  confidence\n",
            "0  72623.png               अमरीका कामबंदीः अब भा नहीं निकली राह    0.443339\n",
            "1  61154.png     सोशल- पहले धमकाया . फिर सुषमा स्वराज ने की मदद    0.426233\n",
            "2   9349.png    जिनकी नींद उड़ी रहती है उनका दिमाग़ ठीक नहीं होता    0.637773\n",
            "3  48242.png                       आसाम चाय की प्याली में तूफ़ान    0.619181\n",
            "4  37670.png  कोरोना महामारी से पीड़ित लोग हा रहे हैं डिप्रे...    0.366101\n"
          ]
        }
      ]
    },
    {
      "cell_type": "code",
      "source": [
        "print(test_df.head())"
      ],
      "metadata": {
        "colab": {
          "base_uri": "https://localhost:8080/"
        },
        "id": "iuwc5bGmFvkl",
        "outputId": "2f0d576c-4a07-435d-bd57-8eeb7c9b79a9"
      },
      "execution_count": 11,
      "outputs": [
        {
          "output_type": "stream",
          "name": "stdout",
          "text": [
            "       image                                               text  confidence\n",
            "0  72623.png               अमरीका कामबंदीः अब भा नहीं निकली राह    0.443339\n",
            "1  61154.png     सोशल- पहले धमकाया . फिर सुषमा स्वराज ने की मदद    0.426233\n",
            "2   9349.png    जिनकी नींद उड़ी रहती है उनका दिमाग़ ठीक नहीं होता    0.637773\n",
            "3  48242.png                       आसाम चाय की प्याली में तूफ़ान    0.619181\n",
            "4  37670.png  कोरोना महामारी से पीड़ित लोग हा रहे हैं डिप्रे...    0.366101\n"
          ]
        }
      ]
    },
    {
      "cell_type": "code",
      "source": [
        "import os\n",
        "import pandas as pd\n",
        "from sklearn.model_selection import train_test_split\n",
        "import random\n",
        "import easyocr\n",
        "from difflib import SequenceMatcher\n",
        "\n",
        "# Initialize the EasyOCR reader for Hindi\n",
        "reader = easyocr.Reader(['hi'], gpu=False)  # 'hi' is for Hindi\n",
        "\n",
        "# Define paths\n",
        "dataset_folder = '/root/.cache/kagglehub/datasets/prathmeshzade/hindi-ocr-synthetic-line-image-text-pair/versions/1/data_80k/output_images/'\n",
        "csv_file_path = '/root/.cache/kagglehub/datasets/prathmeshzade/hindi-ocr-synthetic-line-image-text-pair/versions/1/data_80k/data.csv'  # Update this to the path of your CSV file\n",
        "\n",
        "# Load the ground truth from CSV\n",
        "data_df = pd.read_csv(csv_file_path)\n",
        "\n",
        "# Randomly sample 800 entries\n",
        "random.seed(42)\n",
        "sampled_data = data_df.sample(n=80, random_state=42)\n",
        "\n",
        "# Map image file paths to ground truth\n",
        "sampled_data['image_path'] = sampled_data['image_file'].apply(\n",
        "    lambda x: os.path.join(dataset_folder, x)\n",
        ")\n",
        "\n",
        "# Function to calculate character-level accuracy\n",
        "def calculate_character_accuracy(predicted, ground_truth):\n",
        "    correct_chars = sum(1 for p, g in zip(predicted, ground_truth) if p == g)\n",
        "    total_chars = len(ground_truth)\n",
        "    return (correct_chars / total_chars) * 100 if total_chars > 0 else 0\n",
        "\n",
        "# Perform OCR and compute accuracy\n",
        "results = []\n",
        "\n",
        "for _, row in sampled_data.iterrows():\n",
        "    image_path = row['image_path']\n",
        "    ground_truth_text = row['text']\n",
        "\n",
        "    # Perform OCR\n",
        "    ocr_results = reader.readtext(image_path)\n",
        "    predicted_text = ' '.join([text for (_, text, _) in ocr_results])  # Combine all detected texts\n",
        "\n",
        "    # Calculate character-level accuracy\n",
        "    char_accuracy = calculate_character_accuracy(predicted_text, ground_truth_text)\n",
        "\n",
        "    # Store results\n",
        "    results.append({\n",
        "        'image_file': row['image_file'],\n",
        "        'ground_truth': ground_truth_text,\n",
        "        'predicted_text': predicted_text,\n",
        "        'character_accuracy': char_accuracy,\n",
        "    })\n",
        "\n",
        "# Convert results to DataFrame\n",
        "results_df = pd.DataFrame(results)\n",
        "\n",
        "# Save results to CSV\n",
        "results_df.to_csv('ocr_accuracy_results.csv', index=False)\n",
        "\n",
        "# Print summary\n",
        "print(\"Average Character Accuracy:\", results_df['character_accuracy'].mean())\n",
        "print(\"Sample Results:\")\n",
        "print(results_df.head())\n"
      ],
      "metadata": {
        "id": "amJjNk_GF3Eg",
        "colab": {
          "base_uri": "https://localhost:8080/"
        },
        "outputId": "0da9d13a-4238-454f-acd8-d1ec4f1e036b"
      },
      "execution_count": 12,
      "outputs": [
        {
          "output_type": "stream",
          "name": "stderr",
          "text": [
            "WARNING:easyocr.easyocr:Using CPU. Note: This module is much faster with a GPU.\n"
          ]
        },
        {
          "output_type": "stream",
          "name": "stdout",
          "text": [
            "Average Character Accuracy: 55.55643082563993\n",
            "Sample Results:\n",
            "  image_file                                ground_truth  \\\n",
            "0  47045.png       'सुकून से मरना हो तो केरल पहुंच जाइए'   \n",
            "1  44296.png     'दोषियों को सौंपने की माँग पर कायम हैं'   \n",
            "2  74784.png        शरीफ़, राजपक्षे और करज़ई भारत पहुँचे   \n",
            "3  70976.png                 ब्रिटेन में 'सुडोकू' का नशा   \n",
            "4  46646.png  80 फ़ीसदी गौरक्षक गोरखधंधे में लिप्त: मोदी   \n",
            "\n",
            "                             predicted_text  character_accuracy  \n",
            "0      सुकून से मरना हो तो केरल पहुंच जाइए'            0.000000  \n",
            "1   'दोषियों को सौंपने की माँग पर कायम हैं'          100.000000  \n",
            "2          शरीफ़ राजपक्ष और करज़ई भारत पहुँच           13.888889  \n",
            "3               ब्रिटेन में 'सुडोकू' का नशा          100.000000  \n",
            "4  ८० फ़ीसदी गौरक्षक गोरखधंध में लिप्तः मोदी            2.380952  \n"
          ]
        }
      ]
    },
    {
      "cell_type": "code",
      "source": [],
      "metadata": {
        "id": "S0rhPYyWQvk8"
      },
      "execution_count": null,
      "outputs": []
    }
  ]
}